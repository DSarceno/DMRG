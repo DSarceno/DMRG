{
  "nbformat": 4,
  "nbformat_minor": 0,
  "metadata": {
    "colab": {
      "provenance": [],
      "collapsed_sections": [],
      "authorship_tag": "ABX9TyOm2++8MQIc06RV8Yk0ulb7",
      "include_colab_link": true
    },
    "kernelspec": {
      "name": "python3",
      "display_name": "Python 3"
    },
    "language_info": {
      "name": "python"
    }
  },
  "cells": [
    {
      "cell_type": "markdown",
      "metadata": {
        "id": "view-in-github",
        "colab_type": "text"
      },
      "source": [
        "<a href=\"https://colab.research.google.com/github/DSarceno/DMRG/blob/main/Super_Hamiltonian.ipynb\" target=\"_parent\"><img src=\"https://colab.research.google.com/assets/colab-badge.svg\" alt=\"Open In Colab\"/></a>"
      ]
    },
    {
      "cell_type": "markdown",
      "source": [
        "# **Super Hamiltoniano**\n",
        "#### *Autor: Diego Sarceño*\n",
        "\n",
        "El Super Hamiltoniano de una cadena de N partículas de Spin-$\\frac{1}{2}$. Este se construye añadiendo partículas de dos en dos, al centro de un arreglo inicial de 2 partículas, las cuales solo interactuan a primeros vecinos. Con esta idea, el Super Hamiltoniano se divide en dos cadenas (izquierda y derecha) las cuales se unen al final, tomando en cuenta la contribución general.\n",
        "\n",
        "## Observables \n",
        "#### Operador Proyección\n",
        "- $S^z = \\frac{\\hbar}{2} \\left(\n",
        "\\begin{array}{cc}\n",
        " 1 & 0 \\\\\n",
        " 0 & -1 \\\\\n",
        "\\end{array}\n",
        "\\right)$\n",
        "\n",
        "#### Operadores Escalera\n",
        "- $S^+ = \\hbar \\left(\n",
        "\\begin{array}{cc}\n",
        " 0 & 1 \\\\\n",
        " 0 & 0 \\\\\n",
        "\\end{array}\n",
        "\\right)$\n",
        "- $S^- = \\hbar \\left(\n",
        "\\begin{array}{cc}\n",
        " 0 & 0 \\\\\n",
        " 1 & 0 \\\\\n",
        "\\end{array}\n",
        "\\right)$\n",
        "\n",
        "Conforme se añaden partículas es necesario tomar en cuenta la contribución, dependiendo de donde se agregue la partícula. En caso de agregarse a la derecha de la cadena en la $i-$ésima posición\n",
        "$$ \\overset{\\sim}{S} ^z _{L,i} = \\mathbb{1} _{2^{i - 1}} \\otimes S^z  $$\n",
        "y\n",
        "$$ \\overset{\\sim}{S} ^\\pm _{L,i} = \\mathbb{1} _{2^{i - 1}} \\otimes S^\\pm, $$\n",
        "en caso contrario\n",
        "$$ \\overset{\\sim}{S} ^z _{R,i} = S^z \\otimes \\mathbb{1} _{2^{i - 1}} $$\n",
        "y\n",
        "$$ \\overset{\\sim}{S} ^\\pm _{R,i} = S^\\pm \\otimes \\mathbb{1} _{2^{i - 1}}. $$\n",
        "\n",
        "Dado que se esta trabajando con funciones recursivas, es necesario tener una condición inferior que detenga la función. En este caso es el hamiltoniano para un sistema de dos partículas\n",
        "$$ H_2 = S^z \\otimes S^z + \\frac{1}{2} \\left( S^+ \\otimes S^- + S^- \\otimes S^+ \\right). $$"
      ],
      "metadata": {
        "id": "OOQq4otbDuCn"
      }
    },
    {
      "cell_type": "code",
      "source": [
        "# Librerías a utlizar\n",
        "import math as m\n",
        "import numpy as np\n",
        "import scipy.constants as sc\n",
        "\n",
        "\n",
        "# Input (dimension de la mitad de la lista (super hamiltoniano), toda la lista (hamiltoniano))\n",
        "n = 3"
      ],
      "metadata": {
        "id": "C8vENANYtr4r"
      },
      "execution_count": 1,
      "outputs": []
    },
    {
      "cell_type": "code",
      "source": [
        "###       Definiendo Obserbables       ###\n",
        "\n",
        "# Operadores asociados a partículas con spin 1/2\n",
        "# Tomando \\hbar = 1\n",
        "sz = (1/2)*np.array([[1,0],[0,-1]]) # Spin projection operator in 'z'\n",
        "sp = np.array([[0,1],[0,0]]) # Ladder operators\n",
        "sm = np.array([[0,0],[1,0]])\n",
        "H2 = np.kron(sz,sz) + (1/2)*(np.kron(sp,sm) + np.kron(sm,sp)) # Hamiltonian for 2 particles of spin-1/2\n",
        "\n",
        "\n",
        "# Operadores para una partícula añadida a la derecha de una cadena de spins\n",
        "def Sz(i):\n",
        "    return np.kron(np.eye(2**(i-1)),sz)\n",
        "\n",
        "def Sp(i):\n",
        "    return np.kron(np.eye(2**(i-1)),sp)\n",
        "\n",
        "def Sm(i):\n",
        "    return np.kron(np.eye(2**(i-1)),sm)\n",
        "\n",
        "\n",
        "# Operadores para una particula añadida a la izquierda de una cadena de spins\n",
        "def SzR(i):\n",
        "    return np.kron(sz, np.eye(2**(i - 1)))\n",
        "\n",
        "def SpR(i):\n",
        "    return np.kron(sp, np.eye(2**(i - 1)))\n",
        "\n",
        "def SmR(i):\n",
        "    return np.kron(sm, np.eye(2**(i - 1)))"
      ],
      "metadata": {
        "id": "rqZ_fS6-uI0K"
      },
      "execution_count": 2,
      "outputs": []
    },
    {
      "cell_type": "markdown",
      "source": [
        "## Bloques\n",
        "\n",
        "Como se mencionó anteriormente, el Super Hamiltoniano se construye en base a un bloque izquierdo y derecho de igual longitud. Por lo que, se construye el Hamiltoniano de cada uno de los bloques.\n",
        "\n",
        "### Bloque Izquierdo\n",
        "\n",
        "$$ H_{L,i} = H_{L,i-1} \\otimes \\mathbb{1} _{2} + \\overset{\\sim}{S} ^z _{L,i - 1} \\otimes S^z + \\frac{1}{2} \\left( \\overset{\\sim}{S} ^+ _{L,i - 1} \\otimes S^- + \\overset{\\sim}{S} ^- _{L,i - 1} \\otimes S^+ \\right) $$\n",
        "\n",
        "### Bloque Derecho\n",
        "\n",
        "$$ H_{R, i} = \\mathbb{1} _2 \\otimes H_{R,i - 1} + S^z \\otimes \\overset{\\sim}{S} ^z _{R,i - 1} + \\frac{1}{2} \\left( S^+ \\otimes \\overset{\\sim}{S} ^- _{R,i - 1} + S^- \\otimes \\overset{\\sim}{S} ^+ _{R,i - 1} \\right) $$"
      ],
      "metadata": {
        "id": "SE0pRKvPvLcn"
      }
    },
    {
      "cell_type": "code",
      "source": [
        "# BLOQUE IZQUIERDO\n",
        "def HL(i):\n",
        "    if i > 2:\n",
        "        return np.kron(HL(i - 1), np.eye(2)) + np.kron(Sz(i - 1), sz) + 0.5*(np.kron(Sp(i - 1), sm) + np.kron(Sm(i - 1), sp))\n",
        "    elif i == 2:\n",
        "        return H2\n",
        "    else:\n",
        "        return 1\n",
        "\n",
        "\n",
        "# BLOQUE DERECHO\n",
        "def HR(i):\n",
        "    if i > 2:\n",
        "        return np.kron(np.eye(2), HR(i - 1)) + np.kron(sz, SzR(i - 1)) + 0.5*( np.kron(sp, SmR(i - 1)) + np.kron(sm, SpR(i - 1)) )\n",
        "    elif i == 2:\n",
        "        return H2\n",
        "    else:\n",
        "        return 1"
      ],
      "metadata": {
        "id": "9EgyA4zu0_SM"
      },
      "execution_count": 3,
      "outputs": []
    },
    {
      "cell_type": "markdown",
      "source": [
        "## Super Hamiltoniano\n",
        "\n",
        "Combinando los dos bloques y las interacciones presentes, el Super Hamiltoniano es\n",
        "\n",
        "$$ \\mathcal{H}_i = \\mathbb{1} _{2^i} \\otimes H_{L,i} + H_{R,i} \\otimes \\mathbb{1} _{2^i} + \\mathbb{1} _{2^{i - 1}} \\otimes S^z \\otimes S^z \\otimes \\mathbb{1} _{2^{i - 1}} + \\frac{1}{2} \\left( \\mathbb{1} _{2^{i - 1}} \\otimes S^+ \\otimes S^- \\otimes \\mathbb{1} _{2^{i - 1}} + \\mathbb{1} _{2^{i - 1}} \\otimes S^- \\otimes S^+ \\otimes \\mathbb{1} _{2^{i - 1}} \\right). $$"
      ],
      "metadata": {
        "id": "S04RGvaJ1G3N"
      }
    },
    {
      "cell_type": "code",
      "source": [
        "# Combinando el bloque derecho e izquierdo\n",
        "# super_hamiltonian (Eq. 2.35 Strongly Correlated Systems - A. Avella, F. Mancini)\n",
        "SH = lambda d: np.kron(np.eye(2**d), HL(d)) + np.kron(HR(d), np.eye(2**d)) +\\\n",
        "    np.kron(np.kron(np.kron(np.eye(2**(d - 1)), sz), sz), np.eye(2**(d - 1))) +\\\n",
        "    0.5*( np.kron(np.kron(np.kron(np.eye(2**(d - 1)), sp), sm), np.eye(2**(d - 1))) +\\\n",
        "    np.kron(np.kron(np.kron(np.eye(2**(d - 1)), sm), sp), np.eye(2**(d - 1))) )\n",
        "\n"
      ],
      "metadata": {
        "id": "UVIqjzzB2zi8"
      },
      "execution_count": 4,
      "outputs": []
    }
  ]
}